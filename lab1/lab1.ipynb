{
 "cells": [
  {
   "cell_type": "code",
   "execution_count": 1,
   "metadata": {},
   "outputs": [],
   "source": [
    "import numpy as np\n",
    "import random\n",
    "import os\n",
    "import matplotlib.pyplot as plt\n",
    "import pandas as pd"
   ]
  },
  {
   "cell_type": "code",
   "execution_count": 2,
   "metadata": {},
   "outputs": [],
   "source": [
    "colors = ['r', 'g']\n",
    "colors2 = [['r', 'g'], ['b', 'y']]"
   ]
  },
  {
   "cell_type": "code",
   "execution_count": 3,
   "metadata": {},
   "outputs": [],
   "source": [
    "def PlotFirst(df):\n",
    "    plt.grid(True)\n",
    "    plt.plot(df[df['y'] == 0]['x1'], df[df['y'] == 0]['x2'], 'o', c=colors[0])\n",
    "    plt.plot(df[df['y'] == 1]['x1'], df[df['y'] == 1]['x2'], 'o', c=colors[1])"
   ]
  },
  {
   "cell_type": "code",
   "execution_count": 4,
   "metadata": {},
   "outputs": [],
   "source": [
    "def PlotSecond(df):\n",
    "    plt.grid(True)\n",
    "    plt.plot(df[(df['y1'] == 0) & (df['y2'] == 0)]['x1'], df[(df['y1'] == 0) & (df['y2'] == 0)]['x2'], 'o', c=colors2[0][0])\n",
    "    plt.plot(df[(df['y1'] == 1) & (df['y2'] == 1)]['x1'], df[(df['y1'] == 1) & (df['y2'] == 1)]['x2'], 'o', c=colors2[1][1])\n",
    "    plt.plot(df[(df['y1'] == 0) & (df['y2'] == 1)]['x1'], df[(df['y1'] == 0) & (df['y2'] == 1)]['x2'], 'o', c=colors2[0][1])\n",
    "    plt.plot(df[(df['y1'] == 1) & (df['y2'] == 0)]['x1'], df[(df['y1'] == 1) & (df['y2'] == 0)]['x2'], 'o', c=colors2[1][0])"
   ]
  },
  {
   "cell_type": "code",
   "execution_count": 5,
   "metadata": {},
   "outputs": [],
   "source": [
    "class Perceptron:\n",
    "    def __init__(self, epochs=25, lr=0.1, flag=True):\n",
    "        self.epochs = epochs\n",
    "        self.lr = lr\n",
    "        self.weights = []\n",
    "        self.bias = 0\n",
    "        self.errors = []\n",
    "        \n",
    "    def Train(self, sequences, labels, flag=True):\n",
    "        random.seed(7)\n",
    "        if flag:\n",
    "            self.weights = np.random.sample((2, 2))\n",
    "            self.bias = np.random.sample(2)\n",
    "        else:\n",
    "            self.bias = random.random()\n",
    "            self.weights = np.random.sample(2)\n",
    "            \n",
    "        iteration = 0\n",
    "        i = 0\n",
    "        while i < sequences.shape[0]:\n",
    "            if iteration == self.epochs:\n",
    "                break\n",
    "            predictedLabel = self.Predict(sequences[i], self.weights, self.bias, flag)\n",
    "            error = labels[i] - predictedLabel\n",
    "            self.errors.append(abs(error))\n",
    "            if (np.linalg.norm(error) != 0):\n",
    "                print('iter: {} weights: {} bias: {}\\n'.format(iteration, self.weights, self.bias))\n",
    "                if flag:\n",
    "                    self.weights += self.lr * sequences[i].reshape(-1, 1).dot(error.reshape(1, -1))\n",
    "                else:\n",
    "                    self.weights += self.lr *  sequences[i] * error\n",
    "                self.bias += self.lr * error\n",
    "                i = -1\n",
    "            i += 1\n",
    "            iteration += 1\n",
    "        return self.weights, self.bias\n",
    "    \n",
    "    def MAE(self):\n",
    "        return sum(self.errors) / len(self.errors)\n",
    "    \n",
    "    def F(self, x, w, b):\n",
    "        return np.dot(x, w) + b\n",
    "         \n",
    "        \n",
    "    def Predict(self, seq, weights, bias, flag=True):\n",
    "        if (flag):\n",
    "            return np.heaviside(self.F(seq, weights, bias), 1)\n",
    "        return 1 if self.F(seq, weights, bias) >= 0 else 0"
   ]
  },
  {
   "cell_type": "code",
   "execution_count": 6,
   "metadata": {},
   "outputs": [],
   "source": [
    "def DividingLine(x, w0, w1, b):\n",
    "    return (-w0 * x - b) / w1"
   ]
  },
  {
   "cell_type": "markdown",
   "metadata": {},
   "source": [
    "### Первая обучающая выборка"
   ]
  },
  {
   "cell_type": "code",
   "execution_count": 7,
   "metadata": {},
   "outputs": [],
   "source": [
    "sequences = np.array([[-3.8, -0.2, 2.9, -4.5, -4.2, 4.4], [0.4, 3.9, 2.3, -4.3, 2.9, 1.8]], dtype=np.float32)\n",
    "labels = np.array([1, 1, 0, 0, 1, 0])"
   ]
  },
  {
   "cell_type": "code",
   "execution_count": 8,
   "metadata": {},
   "outputs": [],
   "source": [
    "ds = np.insert(sequences, 2, labels, axis=0)\n",
    "df = pd.DataFrame(ds.T, columns=['x1', 'x2', 'y'])"
   ]
  },
  {
   "cell_type": "code",
   "execution_count": 9,
   "metadata": {},
   "outputs": [
    {
     "data": {
      "text/html": [
       "<div>\n",
       "<style scoped>\n",
       "    .dataframe tbody tr th:only-of-type {\n",
       "        vertical-align: middle;\n",
       "    }\n",
       "\n",
       "    .dataframe tbody tr th {\n",
       "        vertical-align: top;\n",
       "    }\n",
       "\n",
       "    .dataframe thead th {\n",
       "        text-align: right;\n",
       "    }\n",
       "</style>\n",
       "<table border=\"1\" class=\"dataframe\">\n",
       "  <thead>\n",
       "    <tr style=\"text-align: right;\">\n",
       "      <th></th>\n",
       "      <th>x1</th>\n",
       "      <th>x2</th>\n",
       "      <th>y</th>\n",
       "    </tr>\n",
       "  </thead>\n",
       "  <tbody>\n",
       "    <tr>\n",
       "      <th>0</th>\n",
       "      <td>-3.8</td>\n",
       "      <td>0.4</td>\n",
       "      <td>1.0</td>\n",
       "    </tr>\n",
       "    <tr>\n",
       "      <th>1</th>\n",
       "      <td>-0.2</td>\n",
       "      <td>3.9</td>\n",
       "      <td>1.0</td>\n",
       "    </tr>\n",
       "    <tr>\n",
       "      <th>2</th>\n",
       "      <td>2.9</td>\n",
       "      <td>2.3</td>\n",
       "      <td>0.0</td>\n",
       "    </tr>\n",
       "    <tr>\n",
       "      <th>3</th>\n",
       "      <td>-4.5</td>\n",
       "      <td>-4.3</td>\n",
       "      <td>0.0</td>\n",
       "    </tr>\n",
       "    <tr>\n",
       "      <th>4</th>\n",
       "      <td>-4.2</td>\n",
       "      <td>2.9</td>\n",
       "      <td>1.0</td>\n",
       "    </tr>\n",
       "    <tr>\n",
       "      <th>5</th>\n",
       "      <td>4.4</td>\n",
       "      <td>1.8</td>\n",
       "      <td>0.0</td>\n",
       "    </tr>\n",
       "  </tbody>\n",
       "</table>\n",
       "</div>"
      ],
      "text/plain": [
       "    x1   x2    y\n",
       "0 -3.8  0.4  1.0\n",
       "1 -0.2  3.9  1.0\n",
       "2  2.9  2.3  0.0\n",
       "3 -4.5 -4.3  0.0\n",
       "4 -4.2  2.9  1.0\n",
       "5  4.4  1.8  0.0"
      ]
     },
     "execution_count": 9,
     "metadata": {},
     "output_type": "execute_result"
    }
   ],
   "source": [
    "df"
   ]
  },
  {
   "cell_type": "code",
   "execution_count": 10,
   "metadata": {},
   "outputs": [
    {
     "data": {
      "image/png": "[encoded data removed]",
      "text/plain": [
       "<Figure size 432x288 with 1 Axes>"
      ]
     },
     "metadata": {
      "needs_background": "light"
     },
     "output_type": "display_data"
    }
   ],
   "source": [
    "PlotFirst(df)"
   ]
  },
  {
   "cell_type": "markdown",
   "metadata": {},
   "source": [
    "### Вторая обучающая выборка"
   ]
  },
  {
   "cell_type": "code",
   "execution_count": 11,
   "metadata": {},
   "outputs": [],
   "source": [
    "sequences2 = np.array([[-0.6, -4.7, 2.1, -1.7, -1.8, 0.4, 0.5, -2.6], [4, 0.3, -3.3, -3.2, -1, -4.6, -2.3, -2.6]], dtype=np.float32)\n",
    "labels2 = np.array([[1, 1, 0, 0, 0, 0, 0, 0], [1, 1, 0, 0, 1, 0, 0, 0]])\n",
    "\n",
    "ds2 = np.insert(sequences2, 2, labels2, axis=0)\n",
    "df2 = pd.DataFrame(ds2.T, columns=['x1', 'x2', 'y1', 'y2'])"
   ]
  },
  {
   "cell_type": "code",
   "execution_count": 12,
   "metadata": {},
   "outputs": [
    {
     "data": {
      "text/html": [
       "<div>\n",
       "<style scoped>\n",
       "    .dataframe tbody tr th:only-of-type {\n",
       "        vertical-align: middle;\n",
       "    }\n",
       "\n",
       "    .dataframe tbody tr th {\n",
       "        vertical-align: top;\n",
       "    }\n",
       "\n",
       "    .dataframe thead th {\n",
       "        text-align: right;\n",
       "    }\n",
       "</style>\n",
       "<table border=\"1\" class=\"dataframe\">\n",
       "  <thead>\n",
       "    <tr style=\"text-align: right;\">\n",
       "      <th></th>\n",
       "      <th>x1</th>\n",
       "      <th>x2</th>\n",
       "      <th>y1</th>\n",
       "      <th>y2</th>\n",
       "    </tr>\n",
       "  </thead>\n",
       "  <tbody>\n",
       "    <tr>\n",
       "      <th>0</th>\n",
       "      <td>-0.6</td>\n",
       "      <td>4.0</td>\n",
       "      <td>1.0</td>\n",
       "      <td>1.0</td>\n",
       "    </tr>\n",
       "    <tr>\n",
       "      <th>1</th>\n",
       "      <td>-4.7</td>\n",
       "      <td>0.3</td>\n",
       "      <td>1.0</td>\n",
       "      <td>1.0</td>\n",
       "    </tr>\n",
       "    <tr>\n",
       "      <th>2</th>\n",
       "      <td>2.1</td>\n",
       "      <td>-3.3</td>\n",
       "      <td>0.0</td>\n",
       "      <td>0.0</td>\n",
       "    </tr>\n",
       "    <tr>\n",
       "      <th>3</th>\n",
       "      <td>-1.7</td>\n",
       "      <td>-3.2</td>\n",
       "      <td>0.0</td>\n",
       "      <td>0.0</td>\n",
       "    </tr>\n",
       "    <tr>\n",
       "      <th>4</th>\n",
       "      <td>-1.8</td>\n",
       "      <td>-1.0</td>\n",
       "      <td>0.0</td>\n",
       "      <td>1.0</td>\n",
       "    </tr>\n",
       "    <tr>\n",
       "      <th>5</th>\n",
       "      <td>0.4</td>\n",
       "      <td>-4.6</td>\n",
       "      <td>0.0</td>\n",
       "      <td>0.0</td>\n",
       "    </tr>\n",
       "    <tr>\n",
       "      <th>6</th>\n",
       "      <td>0.5</td>\n",
       "      <td>-2.3</td>\n",
       "      <td>0.0</td>\n",
       "      <td>0.0</td>\n",
       "    </tr>\n",
       "    <tr>\n",
       "      <th>7</th>\n",
       "      <td>-2.6</td>\n",
       "      <td>-2.6</td>\n",
       "      <td>0.0</td>\n",
       "      <td>0.0</td>\n",
       "    </tr>\n",
       "  </tbody>\n",
       "</table>\n",
       "</div>"
      ],
      "text/plain": [
       "    x1   x2   y1   y2\n",
       "0 -0.6  4.0  1.0  1.0\n",
       "1 -4.7  0.3  1.0  1.0\n",
       "2  2.1 -3.3  0.0  0.0\n",
       "3 -1.7 -3.2  0.0  0.0\n",
       "4 -1.8 -1.0  0.0  1.0\n",
       "5  0.4 -4.6  0.0  0.0\n",
       "6  0.5 -2.3  0.0  0.0\n",
       "7 -2.6 -2.6  0.0  0.0"
      ]
     },
     "execution_count": 12,
     "metadata": {},
     "output_type": "execute_result"
    }
   ],
   "source": [
    "df2"
   ]
  },
  {
   "cell_type": "code",
   "execution_count": 13,
   "metadata": {},
   "outputs": [
    {
     "data": {
      "image/png": "[encoded data removed]",
      "text/plain": [
       "<Figure size 432x288 with 1 Axes>"
      ]
     },
     "metadata": {
      "needs_background": "light"
     },
     "output_type": "display_data"
    }
   ],
   "source": [
    "PlotSecond(df2)"
   ]
  },
  {
   "cell_type": "code",
   "execution_count": 14,
   "metadata": {},
   "outputs": [],
   "source": [
    "epochs = 50\n",
    "lr = 0.1"
   ]
  },
  {
   "cell_type": "markdown",
   "metadata": {},
   "source": [
    "Случайным образом зададим точки."
   ]
  },
  {
   "cell_type": "code",
   "execution_count": 15,
   "metadata": {},
   "outputs": [
    {
     "data": {
      "text/plain": [
       "array([[-4.23691711e+00,  2.79918792e+00],\n",
       "       [-6.15907686e-01,  2.23465178e+00],\n",
       "       [ 4.77989512e+00,  3.84958704e-01],\n",
       "       [ 1.12046366e-02, -4.27948867e+00],\n",
       "       [-2.31561020e+00, -1.17499174e-03]])"
      ]
     },
     "execution_count": 15,
     "metadata": {},
     "output_type": "execute_result"
    }
   ],
   "source": [
    "np.random.seed(7)\n",
    "randSeqs = (np.random.uniform(-5, 5, (5, 2)))\n",
    "randSeqs"
   ]
  },
  {
   "cell_type": "code",
   "execution_count": 16,
   "metadata": {},
   "outputs": [
    {
     "data": {
      "text/plain": [
       "array([1, 0, 1, 0, 1])"
      ]
     },
     "execution_count": 16,
     "metadata": {},
     "output_type": "execute_result"
    }
   ],
   "source": [
    "np.random.seed(7)\n",
    "randLabels = np.random.randint(0, 2, 5)\n",
    "randLabels"
   ]
  },
  {
   "cell_type": "markdown",
   "metadata": {},
   "source": [
    "Обучим нейросеть на первой обучающей выборке"
   ]
  },
  {
   "cell_type": "code",
   "execution_count": 17,
   "metadata": {},
   "outputs": [
    {
     "name": "stdout",
     "output_type": "stream",
     "text": [
      "iter: 0 weights: [0.9782229  0.45558491] bias: 0.32383276483316237\n",
      "\n",
      "iter: 1 weights: [0.5982229  0.49558492] bias: 0.42383276483316235\n",
      "\n",
      "iter: 2 weights: [0.21822291 0.53558492] bias: 0.5238327648331623\n",
      "\n",
      "iter: 5 weights: [-0.16177709  0.57558492] bias: 0.6238327648331623\n",
      "\n",
      "iter: 8 weights: [-0.45177711  0.34558492] bias: 0.5238327648331623\n",
      "\n",
      "iter: 12 weights: [-0.74177713  0.11558491] bias: 0.42383276483316235\n",
      "\n",
      "iter: 15 weights: [-0.29177711  0.54558495] bias: 0.32383276483316237\n",
      "\n",
      "iter: 19 weights: [-0.58177714  0.31558495] bias: 0.22383276483316236\n",
      "\n",
      "iter: 22 weights: [-0.13177712  0.74558498] bias: 0.12383276483316236\n",
      "\n",
      "weights: [-0.42177714  0.51558498], bias: 0.02383276483316235\n"
     ]
    }
   ],
   "source": [
    "model = Perceptron(epochs, lr)\n",
    "weights, bias = model.Train(sequences.T, labels, False)\n",
    "print('weights: {}, bias: {}'.format(weights, bias))"
   ]
  },
  {
   "cell_type": "markdown",
   "metadata": {},
   "source": [
    "Ошибка обучения сети"
   ]
  },
  {
   "cell_type": "code",
   "execution_count": 18,
   "metadata": {},
   "outputs": [
    {
     "data": {
      "text/plain": [
       "0.3103448275862069"
      ]
     },
     "execution_count": 18,
     "metadata": {},
     "output_type": "execute_result"
    }
   ],
   "source": [
    "model.MAE()"
   ]
  },
  {
   "cell_type": "markdown",
   "metadata": {},
   "source": [
    "Предскажем классы на случайно заданной выборке"
   ]
  },
  {
   "cell_type": "code",
   "execution_count": 19,
   "metadata": {},
   "outputs": [
    {
     "data": {
      "text/plain": [
       "[1, 1, 0, 0, 1]"
      ]
     },
     "execution_count": 19,
     "metadata": {},
     "output_type": "execute_result"
    }
   ],
   "source": [
    "pred = [model.Predict(line, weights, bias, False) for line in randSeqs]\n",
    "pred"
   ]
  },
  {
   "cell_type": "markdown",
   "metadata": {},
   "source": [
    "Отобразим первую обучающую выборку, случайно заданную выборку (треугольнички) и дискриминантную линию."
   ]
  },
  {
   "cell_type": "code",
   "execution_count": 20,
   "metadata": {},
   "outputs": [
    {
     "data": {
      "image/png": "[encoded data removed]",
      "text/plain": [
       "<Figure size 432x288 with 1 Axes>"
      ]
     },
     "metadata": {
      "needs_background": "light"
     },
     "output_type": "display_data"
    }
   ],
   "source": [
    "PlotFirst(df)\n",
    "area = np.linspace(-5, 5, 10)\n",
    "line = DividingLine(area, weights[0], weights[1], bias)\n",
    "plt.plot(area, line, color='black')\n",
    "\n",
    "for x, y, color in zip(randSeqs[:, 0], randSeqs[:, 1], pred):\n",
    "    plt.plot(x, y, \"^\", c=colors[color])"
   ]
  },
  {
   "cell_type": "markdown",
   "metadata": {},
   "source": [
    "Изменим первую обучающую выборку так, чтобы она стала линейно неразделимой."
   ]
  },
  {
   "cell_type": "code",
   "execution_count": 21,
   "metadata": {},
   "outputs": [],
   "source": [
    "sequences_ = np.array([[-3.8, -0.2, 2.9, -4.5, -4.2, 4.4], [0.4, 3.9, 2.3, -4.3, 2.9, 1.8]], dtype=np.float32)\n",
    "labels_ = np.array([1, 1, 0, 0, 0, 0])\n",
    "\n",
    "ds_ = np.insert(sequences_, 2, labels_, axis=0)\n",
    "df_ = pd.DataFrame(ds_.T, columns=['x1', 'x2', 'y'])"
   ]
  },
  {
   "cell_type": "code",
   "execution_count": 22,
   "metadata": {},
   "outputs": [
    {
     "data": {
      "text/html": [
       "<div>\n",
       "<style scoped>\n",
       "    .dataframe tbody tr th:only-of-type {\n",
       "        vertical-align: middle;\n",
       "    }\n",
       "\n",
       "    .dataframe tbody tr th {\n",
       "        vertical-align: top;\n",
       "    }\n",
       "\n",
       "    .dataframe thead th {\n",
       "        text-align: right;\n",
       "    }\n",
       "</style>\n",
       "<table border=\"1\" class=\"dataframe\">\n",
       "  <thead>\n",
       "    <tr style=\"text-align: right;\">\n",
       "      <th></th>\n",
       "      <th>x1</th>\n",
       "      <th>x2</th>\n",
       "      <th>y</th>\n",
       "    </tr>\n",
       "  </thead>\n",
       "  <tbody>\n",
       "    <tr>\n",
       "      <th>0</th>\n",
       "      <td>-3.8</td>\n",
       "      <td>0.4</td>\n",
       "      <td>1.0</td>\n",
       "    </tr>\n",
       "    <tr>\n",
       "      <th>1</th>\n",
       "      <td>-0.2</td>\n",
       "      <td>3.9</td>\n",
       "      <td>1.0</td>\n",
       "    </tr>\n",
       "    <tr>\n",
       "      <th>2</th>\n",
       "      <td>2.9</td>\n",
       "      <td>2.3</td>\n",
       "      <td>0.0</td>\n",
       "    </tr>\n",
       "    <tr>\n",
       "      <th>3</th>\n",
       "      <td>-4.5</td>\n",
       "      <td>-4.3</td>\n",
       "      <td>0.0</td>\n",
       "    </tr>\n",
       "    <tr>\n",
       "      <th>4</th>\n",
       "      <td>-4.2</td>\n",
       "      <td>2.9</td>\n",
       "      <td>0.0</td>\n",
       "    </tr>\n",
       "    <tr>\n",
       "      <th>5</th>\n",
       "      <td>4.4</td>\n",
       "      <td>1.8</td>\n",
       "      <td>0.0</td>\n",
       "    </tr>\n",
       "  </tbody>\n",
       "</table>\n",
       "</div>"
      ],
      "text/plain": [
       "    x1   x2    y\n",
       "0 -3.8  0.4  1.0\n",
       "1 -0.2  3.9  1.0\n",
       "2  2.9  2.3  0.0\n",
       "3 -4.5 -4.3  0.0\n",
       "4 -4.2  2.9  0.0\n",
       "5  4.4  1.8  0.0"
      ]
     },
     "execution_count": 22,
     "metadata": {},
     "output_type": "execute_result"
    }
   ],
   "source": [
    "df_"
   ]
  },
  {
   "cell_type": "code",
   "execution_count": 23,
   "metadata": {},
   "outputs": [
    {
     "name": "stdout",
     "output_type": "stream",
     "text": [
      "iter: 0 weights: [0.30801277 0.26387084] bias: 0.32383276483316237\n",
      "\n",
      "iter: 3 weights: [-0.07198723  0.30387084] bias: 0.42383276483316235\n",
      "\n",
      "iter: 7 weights: [-0.36198725  0.07387084] bias: 0.32383276483316237\n",
      "\n",
      "iter: 10 weights: [0.08801277 0.50387087] bias: 0.22383276483316236\n",
      "\n",
      "iter: 13 weights: [-0.20198726  0.27387087] bias: 0.12383276483316236\n",
      "\n",
      "iter: 17 weights: [-0.49198728  0.04387087] bias: 0.02383276483316235\n",
      "\n",
      "iter: 20 weights: [-0.04198726  0.4738709 ] bias: -0.07616723516683765\n",
      "\n",
      "iter: 24 weights: [-0.33198728  0.2438709 ] bias: -0.17616723516683766\n",
      "\n",
      "iter: 25 weights: [0.11801274 0.67387094] bias: -0.27616723516683767\n",
      "\n",
      "iter: 28 weights: [-0.26198726  0.71387094] bias: -0.17616723516683766\n",
      "\n",
      "iter: 32 weights: [-0.55198728  0.48387093] bias: -0.27616723516683767\n",
      "\n",
      "iter: 35 weights: [-0.10198726  0.91387097] bias: -0.3761672351668377\n",
      "\n",
      "iter: 40 weights: [-0.39198728  0.68387097] bias: -0.4761672351668377\n",
      "\n",
      "iter: 41 weights: [0.0280127  0.39387095] bias: -0.5761672351668377\n",
      "\n",
      "iter: 46 weights: [-0.35198729  0.43387095] bias: -0.4761672351668377\n",
      "\n",
      "iter: 47 weights: [0.0680127  0.14387093] bias: -0.5761672351668377\n",
      "\n",
      "weights: [-0.3119873   0.18387093], bias: -0.4761672351668377\n"
     ]
    }
   ],
   "source": [
    "model_ = Perceptron(epochs, lr)\n",
    "weights_, bias_ = model_.Train(sequences_.T, labels_, False)\n",
    "print('weights: {}, bias: {}'.format(weights_, bias_))"
   ]
  },
  {
   "cell_type": "markdown",
   "metadata": {},
   "source": [
    "Ошибка обучения сети"
   ]
  },
  {
   "cell_type": "code",
   "execution_count": 24,
   "metadata": {},
   "outputs": [
    {
     "data": {
      "text/plain": [
       "0.32"
      ]
     },
     "execution_count": 24,
     "metadata": {},
     "output_type": "execute_result"
    }
   ],
   "source": [
    "model_.MAE()"
   ]
  },
  {
   "cell_type": "markdown",
   "metadata": {},
   "source": [
    "Предскажем классы рандомной выборки по уже обученной сети"
   ]
  },
  {
   "cell_type": "code",
   "execution_count": 25,
   "metadata": {},
   "outputs": [
    {
     "data": {
      "text/plain": [
       "[1, 1, 0, 0, 1]"
      ]
     },
     "execution_count": 25,
     "metadata": {},
     "output_type": "execute_result"
    }
   ],
   "source": [
    "pred_ = [model.Predict(line, weights_, bias_, False) for line in randSeqs]\n",
    "pred_"
   ]
  },
  {
   "cell_type": "markdown",
   "metadata": {},
   "source": [
    "Отобразим измененную обучающую выборку, случайно заданную выборку (треугольнички) и дискриминантную линию."
   ]
  },
  {
   "cell_type": "code",
   "execution_count": 26,
   "metadata": {},
   "outputs": [
    {
     "data": {
      "image/png": "[encoded data removed]",
      "text/plain": [
       "<Figure size 432x288 with 1 Axes>"
      ]
     },
     "metadata": {
      "needs_background": "light"
     },
     "output_type": "display_data"
    }
   ],
   "source": [
    "PlotFirst(df_)\n",
    "area = np.linspace(-5, 5, 10)\n",
    "line = DividingLine(area, weights_[0], weights_[1], bias_)\n",
    "plt.plot(area, line, color='black')\n",
    "\n",
    "for x, y, color in zip(randSeqs[:, 0], randSeqs[:, 1], pred_):\n",
    "    plt.plot(x, y, \"^\", c=colors[color])"
   ]
  },
  {
   "cell_type": "markdown",
   "metadata": {},
   "source": [
    "Обучаем сеть на 50 эпохах на второй обучающей выборке.\n",
    "Посмотрим вычисленные веса и смещения во время обучения."
   ]
  },
  {
   "cell_type": "code",
   "execution_count": 27,
   "metadata": {},
   "outputs": [
    {
     "data": {
      "text/plain": [
       "(8, 2)"
      ]
     },
     "execution_count": 27,
     "metadata": {},
     "output_type": "execute_result"
    }
   ],
   "source": [
    "sequences2.T.shape"
   ]
  },
  {
   "cell_type": "code",
   "execution_count": 28,
   "metadata": {},
   "outputs": [
    {
     "name": "stdout",
     "output_type": "stream",
     "text": [
      "iter: 1 weights: [[0.08674343 0.41937221]\n",
      " [0.01591036 0.52776479]] bias: [0.86880146 0.33083925]\n",
      "\n",
      "iter: 4 weights: [[ 0.08674343 -0.05062777]\n",
      " [ 0.01591036  0.5577648 ]] bias: [0.86880146 0.43083925]\n",
      "\n",
      "iter: 9 weights: [[-0.12325656 -0.05062777]\n",
      " [ 0.34591036  0.5577648 ]] bias: [0.76880146 0.43083925]\n",
      "\n",
      "iter: 14 weights: [[ 0.05674343 -0.23062777]\n",
      " [ 0.44591036  0.4577648 ]] bias: [0.66880146 0.53083925]\n",
      "\n",
      "iter: 16 weights: [[ 0.23674343 -0.23062777]\n",
      " [ 0.54591036  0.4577648 ]] bias: [0.56880146 0.53083925]\n",
      "\n",
      "iter: 21 weights: [[-0.23325655 -0.23062777]\n",
      " [ 0.57591036  0.4577648 ]] bias: [0.66880146 0.53083925]\n",
      "\n"
     ]
    }
   ],
   "source": [
    "model2 = Perceptron(epochs, lr)\n",
    "weights2, bias2 = model2.Train(sequences2.T, labels2.T, True)"
   ]
  },
  {
   "cell_type": "markdown",
   "metadata": {},
   "source": [
    "Полученные итоговые веса, смещения."
   ]
  },
  {
   "cell_type": "code",
   "execution_count": 29,
   "metadata": {},
   "outputs": [
    {
     "name": "stdout",
     "output_type": "stream",
     "text": [
      "weights: [[-0.05325656 -0.23062777]\n",
      " [ 0.67591036  0.4577648 ]], bias: [0.56880146 0.53083925]\n"
     ]
    }
   ],
   "source": [
    "print('weights: {}, bias: {}'.format(weights2, bias2))"
   ]
  },
  {
   "cell_type": "markdown",
   "metadata": {},
   "source": [
    "Ошибка обучения сети"
   ]
  },
  {
   "cell_type": "code",
   "execution_count": 30,
   "metadata": {},
   "outputs": [
    {
     "data": {
      "text/plain": [
       "array([0.16666667, 0.06666667])"
      ]
     },
     "execution_count": 30,
     "metadata": {},
     "output_type": "execute_result"
    }
   ],
   "source": [
    "model2.MAE()"
   ]
  },
  {
   "cell_type": "markdown",
   "metadata": {},
   "source": [
    "Предскажем классы на случайно заданной выборке."
   ]
  },
  {
   "cell_type": "code",
   "execution_count": 31,
   "metadata": {},
   "outputs": [
    {
     "data": {
      "text/plain": [
       "[array([1., 1.]),\n",
       " array([1., 1.]),\n",
       " array([1., 0.]),\n",
       " array([0., 0.]),\n",
       " array([1., 1.])]"
      ]
     },
     "execution_count": 31,
     "metadata": {},
     "output_type": "execute_result"
    }
   ],
   "source": [
    "pred2 = [model.Predict(line, weights2, bias2, True) for line in randSeqs]\n",
    "pred2"
   ]
  },
  {
   "cell_type": "markdown",
   "metadata": {},
   "source": [
    "Отобразим вторую обучающую выборку, случайно заданную выборку (треугольнички) и дискриминантную линию."
   ]
  },
  {
   "cell_type": "code",
   "execution_count": 32,
   "metadata": {},
   "outputs": [
    {
     "data": {
      "image/png": "[encoded data removed]",
      "text/plain": [
       "<Figure size 432x288 with 1 Axes>"
      ]
     },
     "metadata": {
      "needs_background": "light"
     },
     "output_type": "display_data"
    }
   ],
   "source": [
    "PlotSecond(df2)\n",
    "area = np.linspace(-5, 5, 10)\n",
    "line1 = DividingLine(area, weights2[0][0], weights2[1][0], bias2[0])\n",
    "line2 = DividingLine(area, weights2[0][1], weights2[1][1], bias2[1])\n",
    "plt.plot(area, line1, color='black')\n",
    "plt.plot(area, line2, color='black')\n",
    "\n",
    "\n",
    "for x, y, color in zip(randSeqs[:, 0], randSeqs[:, 1], pred):\n",
    "    plt.plot(x, y, \"^\", c=colors[color])"
   ]
  },
  {
   "cell_type": "markdown",
   "metadata": {},
   "source": [
    "Как видно на графике, моя вторая обучающая выборка сама по себе является линейно неразделимой."
   ]
  },
  {
   "cell_type": "code",
   "execution_count": null,
   "metadata": {},
   "outputs": [],
   "source": []
  }
 ],
 "metadata": {
  "kernelspec": {
   "display_name": "Python 3",
   "language": "python",
   "name": "python3"
  },
  "language_info": {
   "codemirror_mode": {
    "name": "ipython",
    "version": 3
   },
   "file_extension": ".py",
   "mimetype": "text/x-python",
   "name": "python",
   "nbconvert_exporter": "python",
   "pygments_lexer": "ipython3",
   "version": "3.7.1"
  }
 },
 "nbformat": 4,
 "nbformat_minor": 4
}
